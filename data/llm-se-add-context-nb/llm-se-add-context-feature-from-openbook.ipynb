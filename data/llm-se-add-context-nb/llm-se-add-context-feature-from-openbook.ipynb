{
 "metadata": {
  "kernelspec": {
   "language": "python",
   "display_name": "Python 3",
   "name": "python3"
  },
  "language_info": {
   "name": "python",
   "version": "3.10.12",
   "mimetype": "text/x-python",
   "codemirror_mode": {
    "name": "ipython",
    "version": 3
   },
   "pygments_lexer": "ipython3",
   "nbconvert_exporter": "python",
   "file_extension": ".py"
  }
 },
 "nbformat_minor": 4,
 "nbformat": 4,
 "cells": [
  {
   "cell_type": "code",
   "source": [
    "import pathlib\n",
    "output_path = pathlib.Path(\"/kaggle/working/kaggle-llm-science-exam-with-context/\")\n",
    "output_path.mkdir()"
   ],
   "metadata": {},
   "execution_count": null,
   "outputs": []
  },
  {
   "cell_type": "code",
   "source": [
    "! pip install --quiet --use-deprecated=legacy-resolver --no-index /kaggle/input/llm-se-python-wheel/llm_science_exam-0.0.1-py3-none-any.whl --find-links /kaggle/input/llm-se-required-libs-python-wheels"
   ],
   "metadata": {
    "_uuid": "8f2839f25d086af736a60e9eeb907d3b93b6e0e5",
    "_cell_guid": "b1076dfc-b9ad-4769-8c92-a6c4dae69d19",
    "execution": {
     "iopub.status.busy": "2023-09-08T05:05:43.541162Z",
     "iopub.execute_input": "2023-09-08T05:05:43.541414Z",
     "iopub.status.idle": "2023-09-08T05:06:51.119198Z",
     "shell.execute_reply.started": "2023-09-08T05:05:43.541389Z",
     "shell.execute_reply": "2023-09-08T05:06:51.118090Z"
    },
    "trusted": true
   },
   "execution_count": null,
   "outputs": []
  },
  {
   "cell_type": "code",
   "source": [
    "import os\n",
    "\n",
    "import llm_science_exam.data\n",
    "import llm_science_exam.open_book"
   ],
   "metadata": {
    "execution": {
     "iopub.status.busy": "2023-09-08T05:06:51.121729Z",
     "iopub.execute_input": "2023-09-08T05:06:51.122121Z",
     "iopub.status.idle": "2023-09-08T05:06:59.423109Z",
     "shell.execute_reply.started": "2023-09-08T05:06:51.122082Z",
     "shell.execute_reply": "2023-09-08T05:06:59.422089Z"
    },
    "trusted": true
   },
   "execution_count": null,
   "outputs": []
  },
  {
   "cell_type": "code",
   "source": [
    "llm_science_exam.pj_struct_paths.set_pj_struct_paths(data_dir_path=\"/kaggle/input\")"
   ],
   "metadata": {
    "execution": {
     "iopub.status.busy": "2023-09-08T05:06:59.424426Z",
     "iopub.execute_input": "2023-09-08T05:06:59.425535Z",
     "iopub.status.idle": "2023-09-08T05:06:59.434298Z",
     "shell.execute_reply.started": "2023-09-08T05:06:59.425498Z",
     "shell.execute_reply": "2023-09-08T05:06:59.431991Z"
    },
    "trusted": true
   },
   "execution_count": null,
   "outputs": []
  },
  {
   "cell_type": "code",
   "source": [
    "if os.getenv('KAGGLE_IS_COMPETITION_RERUN'):\n",
    "    dataset_type = \"test\"\n",
    "else:\n",
    "    dataset_type = \"train\"\n",
    "\n",
    "dataset = llm_science_exam.data.dataset.get_dataset(\n",
    "    dataset_type,\n",
    "    config=llm_science_exam.data.dataset.DatasetConfig(\n",
    "        prompt_id=-1, additional_datasets=[], train_test_split=False, test_size=0\n",
    "    ),\n",
    ")\n",
    "\n",
    "ds = dataset[dataset_type]\n",
    "ds"
   ],
   "metadata": {
    "execution": {
     "iopub.status.busy": "2023-09-08T05:06:59.436597Z",
     "iopub.execute_input": "2023-09-08T05:06:59.437209Z",
     "iopub.status.idle": "2023-09-08T05:06:59.481503Z",
     "shell.execute_reply.started": "2023-09-08T05:06:59.437152Z",
     "shell.execute_reply": "2023-09-08T05:06:59.480555Z"
    },
    "trusted": true
   },
   "execution_count": null,
   "outputs": []
  },
  {
   "cell_type": "code",
   "source": [
    "contexts = llm_science_exam.open_book.get_context(ds, model_device=\"cuda\", faiss_device=\"cuda\")"
   ],
   "metadata": {
    "_kg_hide-input": true,
    "trusted": true
   },
   "execution_count": null,
   "outputs": []
  },
  {
   "cell_type": "code",
   "source": [
    "df = ds.to_pandas()\n",
    "df[\"context\"] = contexts\n",
    "if dataset_type == \"test\":\n",
    "    df = df[[\"id\", \"prompt\", \"context\", \"A\", \"B\", \"C\", \"D\", \"E\"]]\n",
    "else:\n",
    "    df = df[[\"id\", \"prompt\", \"context\", \"A\", \"B\", \"C\", \"D\", \"E\", \"answer\"]]    \n",
    "\n",
    "df.to_csv(output_path / f\"{dataset_type}.csv\", index=False)\n",
    "\n",
    "df"
   ],
   "metadata": {
    "execution": {
     "iopub.status.busy": "2023-09-08T05:37:31.642801Z",
     "iopub.execute_input": "2023-09-08T05:37:31.643448Z",
     "iopub.status.idle": "2023-09-08T05:37:31.758015Z",
     "shell.execute_reply.started": "2023-09-08T05:37:31.643414Z",
     "shell.execute_reply": "2023-09-08T05:37:31.756652Z"
    },
    "trusted": true
   },
   "execution_count": null,
   "outputs": []
  }
 ],
 "kernelspec": {
  "language": "python",
  "display_name": "Python 3",
  "name": "python3"
 },
 "language_info": {
  "pygments_lexer": "ipython3",
  "nbconvert_exporter": "python",
  "version": "3.6.4",
  "file_extension": ".py",
  "codemirror_mode": {
   "name": "ipython",
   "version": 3
  },
  "name": "python",
  "mimetype": "text/x-python"
 }
}
